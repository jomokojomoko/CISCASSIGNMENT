{
  "nbformat": 4,
  "nbformat_minor": 0,
  "metadata": {
    "colab": {
      "name": "RANDOMIZEDSearchASS",
      "provenance": []
    },
    "kernelspec": {
      "name": "python3",
      "display_name": "Python 3"
    },
    "language_info": {
      "name": "python"
    }
  },
  "cells": [
    {
      "cell_type": "code",
      "metadata": {
        "id": "g5Hzdu0D9K9z"
      },
      "source": [
        "#Get datasets\n",
        "!wget -q https://github.com/jomokojomoko/CISCASSIGNMENT/raw/main/Video_games_esrb_rating.csv\n",
        "!wget -q https://github.com/jomokojomoko/CISCASSIGNMENT/raw/main/test_esrb.csv\n"
      ],
      "execution_count": null,
      "outputs": []
    },
    {
      "cell_type": "code",
      "metadata": {
        "colab": {
          "base_uri": "https://localhost:8080/"
        },
        "id": "lNG_cARjj0L9",
        "outputId": "5c76d5e5-738a-4abe-ad71-66ea1d584221"
      },
      "source": [
        "#Get training and testing sets\n",
        "import pandas as pd\n",
        "import csv\n",
        "from sklearn import preprocessing\n",
        "from keras.utils import np_utils\n",
        "xy_train_df = pd.read_csv('Video_games_esrb_rating.csv',error_bad_lines=False)\n",
        "test=pd.read_csv('test_esrb.csv',error_bad_lines=False)\n",
        "#Get x sets\n",
        "xtrain=xy_train_df.drop(columns=['title','esrb_rating'])\n",
        "xtest=test.drop(columns=['title','esrb_rating'])\n",
        "#Get y sets\n",
        "ytrain=xy_train_df['esrb_rating']\n",
        "ytest=test['esrb_rating']\n",
        "print(ytrain)"
      ],
      "execution_count": null,
      "outputs": [
        {
          "output_type": "stream",
          "text": [
            "0        E\n",
            "1       ET\n",
            "2        M\n",
            "3       ET\n",
            "4        T\n",
            "        ..\n",
            "1890     M\n",
            "1891     T\n",
            "1892     E\n",
            "1893     T\n",
            "1894     E\n",
            "Name: esrb_rating, Length: 1895, dtype: object\n"
          ],
          "name": "stdout"
        }
      ]
    },
    {
      "cell_type": "code",
      "metadata": {
        "id": "a36-HGPvFIbG",
        "colab": {
          "base_uri": "https://localhost:8080/"
        },
        "outputId": "fcb6052b-7859-4cdb-ce24-fe8d370b5199"
      },
      "source": [
        "# model training and tuning\n",
        "#Importing the sklearn packages needed\n",
        "import numpy as np\n",
        "from scipy.stats import loguniform\n",
        "from sklearn.compose import ColumnTransformer\n",
        "from sklearn.datasets import fetch_openml\n",
        "from sklearn.model_selection import RepeatedStratifiedKFold\n",
        "from sklearn.pipeline import Pipeline\n",
        "from sklearn.impute import SimpleImputer\n",
        "from sklearn.preprocessing import StandardScaler, OneHotEncoder\n",
        "from sklearn.linear_model import LogisticRegression\n",
        "from sklearn.model_selection import train_test_split, RandomizedSearchCV\n",
        "from xgboost.sklearn import XGBClassifier\n",
        "from sklearn.metrics import confusion_matrix\n",
        "np.random.seed(0)\n",
        "\n",
        "#Selecting the categorical features that will be used\n",
        "categorical_features = [\n",
        "   'console','alcohol_reference', 'animated_blood','blood', 'blood_and_gore', 'cartoon_violence','crude_humor', 'drug_reference', 'fantasy_violence','intense_violence', 'language', 'lyrics','mature_humor', 'mild_blood', 'mild_cartoon_violence','mild_fantasy_violence', 'mild_language', 'mild_lyrics','mild_suggestive_themes', 'mild_violence', 'no_descriptors','nudity', 'partial_nudity', 'sexual_content','sexual_themes', 'simulated_gambling', 'strong_janguage','strong_sexual_content', 'suggestive_themes', 'use_of_alcohol','use_of_drugs_and_alcohol', 'violence']\n",
        "#Preprocessing steps that will be used, Missing values are replaced with 0 encodes each category into a boolean section\n",
        "categorical_transformer = Pipeline(steps=[\n",
        "    ('imputer', SimpleImputer(strategy='constant', fill_value=0)),\n",
        "    ('onehot', OneHotEncoder(handle_unknown='ignore'))])\n",
        "\n",
        "#Configures preprocessor, to have to right steps apply to the correct variables\n",
        "preprocessor = ColumnTransformer(\n",
        "    transformers=[\n",
        "        ('cat', categorical_transformer, categorical_features)])\n",
        "\n",
        "#Creates the settings that are to be used for the classifier, use the preprocessing settings from before\n",
        "#Use the xgboost classifier technique with the settings for multiclass classification\n",
        "regr = Pipeline(steps=[('preprocessor', preprocessor),\n",
        "                      ('regressor', XGBClassifier(\n",
        "                          objective='multi:softmax', seed=3))])\n",
        "\n",
        "#Selects the columns used for the training and testing set\n",
        "xtrain = xtrain[[*categorical_features]]\n",
        "X_test = xtest[[*categorical_features]]\n",
        "\n",
        "# `__` denotes attribute \n",
        "# (e.g. regressor__n_estimators means the `n_estimators` param for `regressor`\n",
        "#  which is our xgb)\n",
        "#Hyperparameters used\n",
        "param_grid = {\n",
        "    #Have 4 options for number of trees\n",
        "    'regressor__n_estimators': [10,20,30,40],\n",
        "    #Have 4 options for ma tree depth\n",
        "    'regressor__max_depth':[2,4,6,8],\n",
        "}\n",
        "#Setting the cross validation settings\n",
        "#10 splits that are repeated 3 times\n",
        "cv = RepeatedStratifiedKFold(n_splits=10, n_repeats=3, random_state=1)\n",
        "\n",
        "#Gridsearch method, using the settings selected above\n",
        "#Does 10 fold cross validation using accuracy as the scoring method\n",
        "#Gridsearch goes through different combinations of the hyper parameters\n",
        "grid_search = RandomizedSearchCV(\n",
        "    regr, param_grid,n_iter=16, cv=cv, verbose=3, n_jobs=2, \n",
        "    scoring='accuracy')\n",
        "grid_search.fit(xtrain, ytrain)\n",
        "\n",
        "print('best score {}'.format(grid_search.best_score_))"
      ],
      "execution_count": null,
      "outputs": [
        {
          "output_type": "stream",
          "text": [
            "Fitting 30 folds for each of 16 candidates, totalling 480 fits\n"
          ],
          "name": "stdout"
        },
        {
          "output_type": "stream",
          "text": [
            "[Parallel(n_jobs=2)]: Using backend LokyBackend with 2 concurrent workers.\n",
            "[Parallel(n_jobs=2)]: Done  28 tasks      | elapsed:    3.0s\n",
            "[Parallel(n_jobs=2)]: Done 124 tasks      | elapsed:   18.6s\n",
            "[Parallel(n_jobs=2)]: Done 284 tasks      | elapsed:   54.6s\n",
            "[Parallel(n_jobs=2)]: Done 480 out of 480 | elapsed:  2.4min finished\n"
          ],
          "name": "stderr"
        },
        {
          "output_type": "stream",
          "text": [
            "best score 0.8487171632785668\n"
          ],
          "name": "stdout"
        }
      ]
    },
    {
      "cell_type": "code",
      "metadata": {
        "colab": {
          "base_uri": "https://localhost:8080/"
        },
        "id": "8AdXnWi8iC2c",
        "outputId": "ccc8da57-c358-46f7-8c16-a2d0f2f7846f"
      },
      "source": [
        "#Print Confusion Matrix\n",
        "y_pred = grid_search.best_estimator_.predict(xtest)\n",
        "print (confusion_matrix(ytest, y_pred))\n",
        "import sklearn\n",
        "acc=sklearn.metrics.accuracy_score(ytest,y_pred)\n",
        "print(acc)"
      ],
      "execution_count": null,
      "outputs": [
        {
          "output_type": "stream",
          "text": [
            "[[ 87   2   0  11]\n",
            " [  4 111   0  11]\n",
            " [  0   0  60  30]\n",
            " [  3  18   6 157]]\n",
            "0.83\n"
          ],
          "name": "stdout"
        }
      ]
    }
  ]
}