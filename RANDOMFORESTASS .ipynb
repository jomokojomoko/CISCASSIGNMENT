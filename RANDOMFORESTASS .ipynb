{
  "nbformat": 4,
  "nbformat_minor": 0,
  "metadata": {
    "colab": {
      "name": "RANDOMFORESTASS.ipynb",
      "provenance": [],
      "collapsed_sections": []
    },
    "kernelspec": {
      "name": "python3",
      "display_name": "Python 3"
    },
    "language_info": {
      "name": "python"
    }
  },
  "cells": [
    {
      "cell_type": "code",
      "metadata": {
        "id": "0ilCq7RszEAt"
      },
      "source": [
        "#Importing datasets\n",
        "!wget -q https://github.com/jomokojomoko/CISCASSIGNMENT/raw/main/Video_games_esrb_rating.csv\n",
        "!wget -q https://github.com/jomokojomoko/CISCASSIGNMENT/raw/main/test_esrb.csv\n"
      ],
      "execution_count": null,
      "outputs": []
    },
    {
      "cell_type": "code",
      "metadata": {
        "colab": {
          "base_uri": "https://localhost:8080/"
        },
        "id": "5ns33rjkzXBA",
        "outputId": "ef96b17f-dce1-4fe3-da56-e7a2e6c226c1"
      },
      "source": [
        "#Importing packages\n",
        "from matplotlib.pyplot import show\n",
        "from seaborn import countplot\n",
        "from sklearn.model_selection import train_test_split\n",
        "from sklearn.pipeline import Pipeline\n",
        "from sklearn.preprocessing import StandardScaler, LabelEncoder\n",
        "from sklearn.ensemble import RandomForestClassifier\n",
        "from imblearn.over_sampling import SMOTE\n",
        "\n",
        "import warnings\n",
        "warnings.filterwarnings(action='ignore')"
      ],
      "execution_count": null,
      "outputs": [
        {
          "output_type": "stream",
          "text": [
            "/usr/local/lib/python3.7/dist-packages/sklearn/externals/six.py:31: FutureWarning: The module is deprecated in version 0.21 and will be removed in version 0.23 since we've dropped support for Python 2.7. Please rely on the official version of six (https://pypi.org/project/six/).\n",
            "  \"(https://pypi.org/project/six/).\", FutureWarning)\n",
            "/usr/local/lib/python3.7/dist-packages/sklearn/utils/deprecation.py:144: FutureWarning: The sklearn.neighbors.base module is  deprecated in version 0.22 and will be removed in version 0.24. The corresponding classes / functions should instead be imported from sklearn.neighbors. Anything that cannot be imported from sklearn.neighbors is now part of the private API.\n",
            "  warnings.warn(message, FutureWarning)\n"
          ],
          "name": "stderr"
        }
      ]
    },
    {
      "cell_type": "code",
      "metadata": {
        "colab": {
          "base_uri": "https://localhost:8080/"
        },
        "id": "QeJYC2GD9OGs",
        "outputId": "c18dd812-d1d8-4560-87c5-08ca1e593c5b"
      },
      "source": [
        "#Processing datasets into training and testing sets\n",
        "import pandas as pd\n",
        "import csv\n",
        "from sklearn import preprocessing\n",
        "from keras.utils import np_utils\n",
        "#Getting X sets\n",
        "xy_train_df = pd.read_csv('Video_games_esrb_rating.csv',error_bad_lines=False)\n",
        "test=pd.read_csv('test_esrb.csv',error_bad_lines=False)\n",
        "xtrain=xy_train_df.drop(columns=['title','esrb_rating'])\n",
        "#Getting Y sets\n",
        "xtest=test.drop(columns=['title','esrb_rating'])\n",
        "ytrain=xy_train_df['esrb_rating']\n",
        "ytest=test['esrb_rating']\n",
        "le=preprocessing.LabelEncoder()\n",
        "le.fit(ytrain)\n",
        "ytrain=le.transform(ytrain)\n",
        "ytest=le.transform(ytest)\n",
        "print(ytrain)"
      ],
      "execution_count": null,
      "outputs": [
        {
          "output_type": "stream",
          "text": [
            "[0 1 2 ... 0 3 0]\n"
          ],
          "name": "stdout"
        }
      ]
    },
    {
      "cell_type": "code",
      "metadata": {
        "colab": {
          "base_uri": "https://localhost:8080/"
        },
        "id": "Vv_gFl4q7m8O",
        "outputId": "7d65d905-a3b3-4b7a-f061-645696e6f9b8"
      },
      "source": [
        "#Building the random forest model\n",
        "steps = [('scaler', StandardScaler()),\n",
        "        ('Random Forest', RandomForestClassifier(300))]\n",
        "\n",
        "pipeline = Pipeline(steps)\n",
        "\n",
        "\n",
        "#Fitting the model and getting the scores\n",
        "model = pipeline.fit(xtrain,ytrain)\n",
        "y =pipeline.predict(xtest)\n",
        "print(\"Train Score Accuracy :\", model.score(xtrain, ytrain))\n",
        "print(\"Test Score Accuracy :\", model.score(xtest, ytest))\n",
        "print(y)"
      ],
      "execution_count": null,
      "outputs": [
        {
          "output_type": "stream",
          "text": [
            "Train Score Accuracy : 0.9245382585751979\n",
            "Test Score Accuracy : 0.844\n",
            "[3 0 2 0 1 2 2 1 0 3 3 3 1 1 3 2 2 3 0 1 3 1 1 3 1 1 1 3 2 3 3 1 1 3 1 3 2\n",
            " 1 0 3 3 3 1 2 0 0 3 1 1 1 3 3 3 1 3 1 1 3 3 3 0 3 1 0 2 1 3 0 0 0 0 1 3 1\n",
            " 3 1 3 2 0 0 3 3 3 1 0 3 3 3 1 1 0 1 3 3 3 0 1 1 1 3 0 0 3 3 3 0 2 3 3 3 3\n",
            " 1 1 3 0 3 3 1 3 0 3 3 1 0 3 3 0 1 1 3 1 3 2 1 0 3 1 3 1 1 0 3 3 3 2 3 2 3\n",
            " 1 1 1 0 1 3 0 0 0 2 3 3 1 1 1 0 2 1 2 0 1 3 3 1 3 3 2 0 2 3 1 2 3 3 3 3 0\n",
            " 3 1 3 1 0 0 0 1 1 3 3 2 1 1 3 0 0 2 3 3 1 3 0 1 2 2 3 0 3 3 0 3 0 3 1 3 3\n",
            " 2 0 3 0 3 0 3 2 3 3 3 3 2 0 3 1 0 0 0 1 1 1 3 2 1 3 1 3 3 1 0 2 1 3 0 3 1\n",
            " 3 1 1 2 2 1 3 3 1 3 2 0 3 0 2 3 3 1 0 2 1 2 1 0 3 3 0 3 3 1 3 3 3 1 1 3 3\n",
            " 1 0 1 1 2 1 0 3 1 3 3 0 0 0 3 3 3 0 3 3 0 3 1 0 2 3 3 3 3 0 0 2 3 3 3 3 3\n",
            " 3 3 1 3 3 0 3 2 3 3 2 3 0 1 3 3 3 1 1 1 3 0 2 2 3 3 3 1 1 0 1 1 3 3 0 3 1\n",
            " 1 0 3 1 0 0 1 3 2 0 1 0 0 0 3 1 0 1 3 3 3 2 1 2 3 0 1 1 3 0 1 1 2 3 3 1 1\n",
            " 3 3 3 0 3 1 1 3 0 0 0 1 3 1 1 1 2 0 3 3 3 1 3 1 0 0 2 3 2 0 1 3 3 3 2 3 3\n",
            " 3 3 0 1 3 2 3 0 2 2 3 1 1 3 3 2 3 0 1 3 0 3 3 3 1 1 2 0 1 2 3 2 0 3 1 3 1\n",
            " 3 3 2 3 3 1 0 0 1 3 0 2 3 3 2 3 2 1 3]\n"
          ],
          "name": "stdout"
        }
      ]
    },
    {
      "cell_type": "code",
      "metadata": {
        "colab": {
          "base_uri": "https://localhost:8080/"
        },
        "id": "0CVn_BpzpY0V",
        "outputId": "d2bfcc5b-c8fe-4227-dbe5-a1ecb7294f9d"
      },
      "source": [
        "#Confusion amtrix\n",
        "from sklearn.metrics import confusion_matrix\n",
        "print(confusion_matrix(ytest,y))"
      ],
      "execution_count": null,
      "outputs": [
        {
          "output_type": "stream",
          "text": [
            "[[ 95   4   0   1]\n",
            " [  4 112   0  10]\n",
            " [  0   0  55  35]\n",
            " [  1  17   6 160]]\n"
          ],
          "name": "stdout"
        }
      ]
    }
  ]
}