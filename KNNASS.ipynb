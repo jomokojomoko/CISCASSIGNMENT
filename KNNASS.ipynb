{
  "nbformat": 4,
  "nbformat_minor": 0,
  "metadata": {
    "colab": {
      "name": "KNNASS",
      "provenance": []
    },
    "kernelspec": {
      "name": "python3",
      "display_name": "Python 3"
    },
    "language_info": {
      "name": "python"
    }
  },
  "cells": [
    {
      "cell_type": "code",
      "metadata": {
        "id": "_7uGIz2Nw3zn"
      },
      "source": [
        "#Get Datasets\n",
        "!wget -q https://github.com/jomokojomoko/CISCASSIGNMENT/raw/main/Video_games_esrb_rating.csv\n",
        "!wget -q https://github.com/jomokojomoko/CISCASSIGNMENT/raw/main/test_esrb.csv\n"
      ],
      "execution_count": null,
      "outputs": []
    },
    {
      "cell_type": "code",
      "metadata": {
        "colab": {
          "base_uri": "https://localhost:8080/"
        },
        "id": "BJ3qjoQLxNah",
        "outputId": "68d02f4f-d6ca-4471-f42f-278852820091"
      },
      "source": [
        "#Get training and testing sets\n",
        "import pandas as pd\n",
        "import csv\n",
        "from sklearn import preprocessing\n",
        "from keras.utils import np_utils\n",
        "xy_train_df = pd.read_csv('Video_games_esrb_rating.csv',error_bad_lines=False)\n",
        "test=pd.read_csv('test_esrb.csv',error_bad_lines=False)\n",
        "#Get x sets\n",
        "xtrain=xy_train_df.drop(columns=['title','esrb_rating'])\n",
        "xtest=test.drop(columns=['title','esrb_rating'])\n",
        "#Get y sets\n",
        "ytrain=xy_train_df['esrb_rating']\n",
        "print(ytrain)\n",
        "ytest=test['esrb_rating']\n",
        "#Converting labels into numbers\n",
        "le=preprocessing.LabelEncoder()\n",
        "le.fit(ytrain)\n",
        "ytrain=le.transform(ytrain)\n",
        "ytest=le.transform(ytest)\n",
        "print(ytest)\n"
      ],
      "execution_count": null,
      "outputs": [
        {
          "output_type": "stream",
          "text": [
            "0        E\n",
            "1       ET\n",
            "2        M\n",
            "3       ET\n",
            "4        T\n",
            "        ..\n",
            "1890     M\n",
            "1891     T\n",
            "1892     E\n",
            "1893     T\n",
            "1894     E\n",
            "Name: esrb_rating, Length: 1895, dtype: object\n",
            "[3 0 3 0 1 2 2 1 0 3 3 3 1 3 3 2 2 3 0 1 3 1 1 3 1 1 0 3 2 1 3 1 1 3 3 3 2\n",
            " 1 0 3 3 3 0 2 0 0 3 1 1 1 3 3 2 1 2 1 3 3 2 3 0 2 1 0 2 1 3 0 0 0 0 1 3 1\n",
            " 3 1 3 2 0 0 3 3 3 1 0 2 2 3 1 1 0 1 3 3 3 0 1 1 1 3 0 0 3 2 2 0 2 3 3 3 3\n",
            " 3 1 3 0 3 3 1 3 0 3 3 1 0 2 3 0 1 1 3 1 3 2 3 0 3 3 0 3 3 0 3 3 3 2 3 2 3\n",
            " 1 1 1 0 1 3 0 0 0 2 3 3 1 1 1 0 2 0 2 0 1 3 2 1 3 3 2 0 2 3 1 2 2 3 3 3 0\n",
            " 3 1 2 1 3 0 0 1 1 3 3 2 3 0 3 0 0 3 3 3 1 3 0 1 2 3 3 0 3 2 0 3 0 3 1 3 3\n",
            " 2 0 3 0 3 0 2 2 3 2 2 3 2 0 3 1 0 0 0 1 1 1 2 2 1 2 1 3 3 1 0 2 1 3 0 3 1\n",
            " 3 1 1 2 2 1 3 3 3 3 2 0 3 0 2 3 1 1 0 2 1 2 1 0 3 3 0 3 3 1 3 3 2 1 1 3 2\n",
            " 1 1 1 1 3 1 0 3 1 3 3 0 0 0 3 3 3 0 3 3 0 3 1 0 2 3 1 3 2 0 0 2 1 3 2 2 3\n",
            " 3 3 1 2 3 0 3 2 3 3 2 3 0 1 2 2 3 3 1 1 3 0 2 2 3 3 2 1 1 0 1 1 3 3 0 3 3\n",
            " 3 0 3 1 0 0 1 3 2 0 1 1 0 0 3 1 0 1 1 1 3 2 1 3 3 0 1 3 3 0 1 3 2 3 2 1 1\n",
            " 3 3 3 1 3 1 1 3 0 0 0 1 3 1 3 1 2 0 2 3 3 1 3 1 0 0 3 1 2 0 1 1 3 3 2 3 2\n",
            " 3 2 0 1 3 2 3 0 2 2 3 1 1 3 3 2 3 0 1 3 0 3 3 2 1 1 2 0 1 2 3 2 1 2 1 3 1\n",
            " 3 3 2 2 3 1 0 0 1 1 0 2 1 3 2 2 2 3 3]\n"
          ],
          "name": "stdout"
        }
      ]
    },
    {
      "cell_type": "code",
      "metadata": {
        "id": "yMdrlf_GxNny"
      },
      "source": [
        "from sklearn.neighbors import KNeighborsClassifier\n",
        "\n",
        "#Create KNN Classifier\n",
        "knn = KNeighborsClassifier(n_neighbors=3)\n",
        "\n",
        "#Train the model using the training sets\n",
        "knn.fit(xtrain, ytrain)\n",
        "\n",
        "\n",
        "#Predict the response for test dataset\n",
        "y_pred = knn.predict(xtest)"
      ],
      "execution_count": null,
      "outputs": []
    },
    {
      "cell_type": "code",
      "metadata": {
        "colab": {
          "base_uri": "https://localhost:8080/"
        },
        "id": "rKHt6laIxpH0",
        "outputId": "9d6722ab-076f-4078-c97b-cc9be7ed671e"
      },
      "source": [
        "from sklearn import metrics\n",
        "# Model Accuracy, how often is the classifier correct?\n",
        "print(\"Accuracy:\",metrics.accuracy_score(ytest, y_pred))"
      ],
      "execution_count": null,
      "outputs": [
        {
          "output_type": "stream",
          "text": [
            "Accuracy: 0.808\n"
          ],
          "name": "stdout"
        }
      ]
    }
  ]
}