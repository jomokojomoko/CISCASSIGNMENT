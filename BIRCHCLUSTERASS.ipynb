{
  "nbformat": 4,
  "nbformat_minor": 0,
  "metadata": {
    "colab": {
      "name": "BIRCHCLUSTERASS",
      "provenance": []
    },
    "kernelspec": {
      "name": "python3",
      "display_name": "Python 3"
    },
    "language_info": {
      "name": "python"
    }
  },
  "cells": [
    {
      "cell_type": "code",
      "metadata": {
        "id": "y0VbwbCudEvP"
      },
      "source": [
        "#Get datasets\n",
        "!wget -q https://github.com/jomokojomoko/CISCASSIGNMENT/raw/main/Video_games_esrb_rating.csv\n",
        "!wget -q https://github.com/jomokojomoko/CISCASSIGNMENT/raw/main/test_esrb.csv\n"
      ],
      "execution_count": null,
      "outputs": []
    },
    {
      "cell_type": "code",
      "metadata": {
        "colab": {
          "base_uri": "https://localhost:8080/"
        },
        "id": "UuKVJdHxnxWJ",
        "outputId": "40dfb83e-b5b6-484b-eb3a-56ed939d601d"
      },
      "source": [
        "#Get testing and training sets\n",
        "import pandas as pd\n",
        "import csv\n",
        "from sklearn import preprocessing\n",
        "from keras.utils import np_utils\n",
        "xy_train_df = pd.read_csv('Video_games_esrb_rating.csv',error_bad_lines=False)\n",
        "test=pd.read_csv('test_esrb.csv',error_bad_lines=False)\n",
        "#Get x sets\n",
        "xtrain=xy_train_df.drop(columns=['title','esrb_rating'])\n",
        "xtest=test.drop(columns=['title','esrb_rating'])\n",
        "#Get y set\n",
        "ytrain=xy_train_df['esrb_rating']\n",
        "print(ytrain)\n",
        "ytest=test['esrb_rating']\n",
        "#Convert labels into numbers\n",
        "le=preprocessing.LabelEncoder()\n",
        "le.fit(ytrain)\n",
        "ytrain=le.transform(ytrain)\n",
        "ytest=le.transform(ytest)\n",
        "print(ytest)\n"
      ],
      "execution_count": null,
      "outputs": [
        {
          "output_type": "stream",
          "text": [
            "0        E\n",
            "1       ET\n",
            "2        M\n",
            "3       ET\n",
            "4        T\n",
            "        ..\n",
            "1890     M\n",
            "1891     T\n",
            "1892     E\n",
            "1893     T\n",
            "1894     E\n",
            "Name: esrb_rating, Length: 1895, dtype: object\n",
            "[3 0 3 0 1 2 2 1 0 3 3 3 1 3 3 2 2 3 0 1 3 1 1 3 1 1 0 3 2 1 3 1 1 3 3 3 2\n",
            " 1 0 3 3 3 0 2 0 0 3 1 1 1 3 3 2 1 2 1 3 3 2 3 0 2 1 0 2 1 3 0 0 0 0 1 3 1\n",
            " 3 1 3 2 0 0 3 3 3 1 0 2 2 3 1 1 0 1 3 3 3 0 1 1 1 3 0 0 3 2 2 0 2 3 3 3 3\n",
            " 3 1 3 0 3 3 1 3 0 3 3 1 0 2 3 0 1 1 3 1 3 2 3 0 3 3 0 3 3 0 3 3 3 2 3 2 3\n",
            " 1 1 1 0 1 3 0 0 0 2 3 3 1 1 1 0 2 0 2 0 1 3 2 1 3 3 2 0 2 3 1 2 2 3 3 3 0\n",
            " 3 1 2 1 3 0 0 1 1 3 3 2 3 0 3 0 0 3 3 3 1 3 0 1 2 3 3 0 3 2 0 3 0 3 1 3 3\n",
            " 2 0 3 0 3 0 2 2 3 2 2 3 2 0 3 1 0 0 0 1 1 1 2 2 1 2 1 3 3 1 0 2 1 3 0 3 1\n",
            " 3 1 1 2 2 1 3 3 3 3 2 0 3 0 2 3 1 1 0 2 1 2 1 0 3 3 0 3 3 1 3 3 2 1 1 3 2\n",
            " 1 1 1 1 3 1 0 3 1 3 3 0 0 0 3 3 3 0 3 3 0 3 1 0 2 3 1 3 2 0 0 2 1 3 2 2 3\n",
            " 3 3 1 2 3 0 3 2 3 3 2 3 0 1 2 2 3 3 1 1 3 0 2 2 3 3 2 1 1 0 1 1 3 3 0 3 3\n",
            " 3 0 3 1 0 0 1 3 2 0 1 1 0 0 3 1 0 1 1 1 3 2 1 3 3 0 1 3 3 0 1 3 2 3 2 1 1\n",
            " 3 3 3 1 3 1 1 3 0 0 0 1 3 1 3 1 2 0 2 3 3 1 3 1 0 0 3 1 2 0 1 1 3 3 2 3 2\n",
            " 3 2 0 1 3 2 3 0 2 2 3 1 1 3 3 2 3 0 1 3 0 3 3 2 1 1 2 0 1 2 3 2 1 2 1 3 1\n",
            " 3 3 2 2 3 1 0 0 1 1 0 2 1 3 2 2 2 3 3]\n"
          ],
          "name": "stdout"
        }
      ]
    },
    {
      "cell_type": "code",
      "metadata": {
        "colab": {
          "base_uri": "https://localhost:8080/"
        },
        "id": "waIu5BatXDpu",
        "outputId": "f7d53948-0080-45ea-eb4b-6b794836889e"
      },
      "source": [
        "# birch clustering\n",
        "from numpy import unique\n",
        "from numpy import where\n",
        "from sklearn.datasets import make_classification\n",
        "from sklearn.cluster import Birch, SpectralClustering\n",
        "from matplotlib import pyplot\n",
        "import sklearn\n",
        "import numpy as np\n",
        "# define dataset\n",
        "\n",
        "# define the model\n",
        "model = Birch(threshold=0.01, n_clusters=4)\n",
        "# fit the model\n",
        "model.fit(xtrain)\n",
        "# assign a cluster to each example\n",
        "\n",
        "yhat = model.predict(xtrain)\n",
        "\n",
        "acc=sklearn.metrics.accuracy_score(ytrain,yhat)\n",
        "print(acc)\n",
        "# retrieve unique clusters\n"
      ],
      "execution_count": null,
      "outputs": [
        {
          "output_type": "stream",
          "text": [
            "0.24591029023746702\n"
          ],
          "name": "stdout"
        }
      ]
    }
  ]
}